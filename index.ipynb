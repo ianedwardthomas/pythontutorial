{
 "cells": [
  {
   "source": [
    "# Introduction to Python for Researchers \n",
    "\n",
    "Ian Thomas, Research Innovation and Capability, RMIT University\n",
    "\n",
    "***\n",
    "\n",
    "## Introduction\n",
    "\n",
    "In this tutorial, we will \n",
    "\n",
    "* introduce NeCTAR, the Australian national infrastructure for research cloud computing, \n",
    "\n",
    "* create a Jupyter notebook (a user interface for python programming), \n",
    "\n",
    "* review Scipy (a collection of python packages for mathematics, scientific and engineering programming, and \n",
    "\n",
    "* experiment with the Pandas and Matplotlib packages for a small case study.\n",
    "\n",
    "This tutorial is a quick introduction of these various technology tools, as a stepping-off point for further investigation.  I provide links to each of the tools and other background information that may be helpful.\n",
    "\n",
    "### Who is this for?\n",
    "\n",
    "* \"Absolute\" beginners\n",
    "\n",
    "* Who might be good at spreadsheets (e.g., Excel)\n",
    "\n",
    "* Who might be interested in improving the reproducability of their analyses\n",
    "\n",
    "* Who are interested in getting a high-level overview of data wrangling and are prepared to do their own self-study.\n",
    "\n",
    "### \"Why would I want to learn and use Python?\"\n",
    "\n",
    "* Its relatively easy to learn\n",
    "\n",
    "* Its free with a good user community for assistance.\n",
    "\n",
    "* Works well as a scripting language for gluing other programs together.\n",
    "\n",
    "* Includes lots of helpful libraries of extra tools (including data wrangling and analysis)\n",
    "\n",
    "* Its a robust general-purpose language useful beyond just data wrangling.\n",
    "\n",
    "* Its a more reproducible alternative to using Excel?\n",
    "\n",
    "\n",
    "\n"
   ],
   "cell_type": "markdown",
   "metadata": {}
  },
  {
   "cell_type": "markdown",
   "metadata": {},
   "source": [
    "\n",
    "## Jupyter Notebooks\n",
    "\n",
    "Text from <http://jupyter.org>\n",
    "\n",
    "> The Jupyter Notebook is an open-source web application that allows you to create and share documents that contain live code, equations, visualizations and narrative text. Uses include: data cleaning and transformation, numerical simulation, statistical modeling, data visualization, machine learning, and much more.\n",
    "\n",
    "We will install a Jupyter notebook, a web-based environment for Python (and other language) programming.  Here we show *three* different ways of getting to a jupyter notebook, and along the way hightlight a key technology or platform that can be useful for other research activites.\n",
    "\n",
    "\n",
    "### Getting a Jupyter notebook up and running\n",
    "\n",
    "1.  **The locally installed option**: \n",
    "Download and install the Anaconda distribution onto your mac or pc : <https://www.anaconda.com/products/individual> a open source distribution with hundreds of packages useful for data science, machine learning and scientific programming.\n",
    "\n",
    "2. **The cloud option** Deploy Jupyter on the NeCTAR research cloud, the National cloud computing platform for Australian Researchers (including HDRS).\n",
    "\n",
    "3. **The demonstrator option** Use Mybinder.org <http://mybinder.org> to spin up _temporary_ Jupyter notebooks for  experimental purposes.  This is the *easy* option!\n",
    "\n",
    "See <https://jupyter.org/install.html> for more information."
   ]
  },
  {
   "cell_type": "markdown",
   "metadata": {},
   "source": [
    "\n",
    "### The Anaconda Distribution: The locally installed option\n",
    "\n",
    "Text from <https://www.anaconda.com/>\n",
    "\n",
    "> With over 20 million users worldwide, the open-source Individual Edition (Distribution) is the easiest way to perform Python/R data science and machine learning on a single machine. Developed for solo practitioners, it is the toolkit that equips you to work with thousands of open-source packages and libraries.\n",
    "\n",
    "This  application is available for Windows, Mac or Linux, and provides an environment for running Python applications and using a set extensive set of preinstalled libraries.\n",
    "\n",
    "It runs on your desktop or laptop (not in the cloud) and is great for doing your own analyses or programming on your own machine.\n",
    "\n",
    "\n",
    "#### Other Anaconda applications\n",
    "\n",
    "There are other Anaconda distribution applications including RStudio (for R), UI builders and other analysis tools.\n",
    "\n"
   ]
  },
  {
   "cell_type": "markdown",
   "metadata": {},
   "source": [
    "\n",
    "\n",
    "### Nectar deployment: The cloud option\n",
    "\n",
    "Text from <http://nectar.org.au>\n",
    "\n",
    "> The National eResearch Collaboration Tools and Resources project (Nectar) provides an online infrastructure that supports researchers to connect with colleagues in Australia and around the world, allowing them to collaborate and share ideas and research outcomes, which will ultimately contribute to our collective knowledge and make a significant impact on our society.\n",
    "\n",
    "> *Nectar Cloud* provides computing infrastructure, software and services that allow Australia’s research community to store, access, and run data, remotely, rapidly and autonomously. Nectar Cloud’s self-service structure allows users to access their own data at any time and collaborate with others from their desktop in a fast and efficient way.\n",
    "\n",
    " The good news is that you have access to the Nectar research cloud right now, as all Austrialian researchers (including HDRs) are allocated a small amount of resources with which to experiment. RMIT has its own share of these resources that it can provide to RMIT researchers through an allocation scheme.\n",
    "\n",
    "Try it!  Go to \n",
    "<http://cloud.nectar.org.au/start-now/>\n",
    "and login, using your university credentials.\n",
    "\n",
    "The cloud also provides common applications that can be automatically provisioned onto the cloud.  One of those is Jupyter:\n",
    "\n",
    "<https://support.ehelp.edu.au/support/solutions/articles/6000196124-nectar-applications-jupyter-notebook>\n",
    "\n",
    "#### A cloud for researchers \n",
    "\n",
    "The Nectar cloud is more just Jupyter notebooks.  \n",
    "\n",
    "The research cloud can be used to \"scale-up\" research software in order to to utilise more resources than are available on a typical desktop.  For example, the largest NeCTAR instance (virtual machine) has 32 CPU cores and 64GB of RAM, which might be more than your laptop can provide. But you can quickly create more than multiple instances to get even more work done.\n",
    "\n",
    "To find out more go to http://nectar.org.au/cloudpage\n",
    "\n",
    "The basic terminology of the cloud is described here: https://support.ehelp.edu.au/support/solutions/articles/6000055378-welcome\n",
    "\n",
    "Creating an instance is described here: https://support.ehelp.edu.au/support/solutions/articles/6000055376-launching-virtual-machines\n",
    "\n",
    "If you’d like to apply for additional resources then instructions are here: https://support.ehelp.edu.au/support/solutions/articles/6000068044-managing-an-allocation\n",
    "\n",
    "\n"
   ]
  },
  {
   "cell_type": "markdown",
   "metadata": {},
   "source": [
    "\n",
    "\n",
    "\n",
    "### Binder deployment: The Demonstrator Option\n",
    "\n",
    "Text from http://mybinder.org:\n",
    "\n",
    "> Have a repository full of Jupyter notebooks? With Binder, open those notebooks in an executable environment, making your code immediately reproducible by anyone, anywhere.\n",
    "\n",
    "This is by far the simplest option for just running this tutorial and trying out Python.\n",
    "If you have created a notebook using one of the other options, then binder is the easiest way of demonstrating and allowing others to investigate your results.\n",
    "\n",
    "So, we're  using binder to do this tutorial!  The following link will spin up your own virtual machine with Jupyter, Scipy and Python with this tutorial running:\n",
    "\n",
    "### <http://eresear.ch/pythontutorial>\n",
    "\n",
    "You can experiment with this notebook, add and change code and rerun.   However, note that the computing resource behind binder is temporary and only designed for short experiments.  For example, the notebook will be deleted if it is idle for more than ten minutes.   This includes any changes you've made.  For more permanent resources, try the other two deployments from earlier.\n",
    "\n",
    "\n",
    "#### Reproducible experiments\n",
    "\n",
    "What is interesting here is that we have a reproducible way to publish Python and text and visualisations  for others to view and edit and investigate.\n",
    "\n"
   ]
  },
  {
   "cell_type": "markdown",
   "metadata": {},
   "source": [
    "##  Lets get to the actual Jupyter Notebook (already)\n",
    "\n",
    "\n",
    "\n",
    "The cells in a Jupyter notebook like you've seen above aren't just text, they can also be Python code. Below is a really simple example.\n",
    "\n",
    "* To execute this cell, select it and press the play button above.⏯ (or hit shift-return)\n",
    "* Multiple presses will execute each cell down the page.\n",
    "* You can select and edit any code cell and press play to run the cell again. \n",
    "* To run all the code in the notebook, press fast forward button ⏩"
   ]
  },
  {
   "cell_type": "code",
   "execution_count": null,
   "metadata": {
    "tags": []
   },
   "outputs": [],
   "source": [
    "print(\"Hello World\")"
   ]
  },
  {
   "cell_type": "markdown",
   "metadata": {},
   "source": [
    "Try changing the printed words in the previous cell and rerunning it!\n"
   ]
  },
  {
   "cell_type": "markdown",
   "metadata": {},
   "source": [
    "Python is an extensive and powerful programming language and while many tasks can be achieved using the standard tools of the language, its main power comes from its collection of additional domain-specfic Python libraries.  \n",
    "\n",
    "So in this tutorial we're going skim the surface of the language proper, and focus on using a powerful toolbox of libraries designed for data processing in Python.  We're not going to delve too deep in the complexity of the language but you can get a surprising amount with just a few commands.  \n",
    "\n",
    "There will be resources on the Python language later to help to investigate further.\n"
   ]
  },
  {
   "cell_type": "markdown",
   "metadata": {},
   "source": [
    "***\n",
    "\n",
    "## Scientific processing with SciPy\n",
    "\n",
    "### SciPy Toolkit\n",
    "\n",
    "Text from www.scipy.org\n",
    "\n",
    "> SciPy (pronounced “Sigh Pie”) is a Python-based ecosystem of open-source software for mathematics, science, and engineering.\n",
    "\n",
    "Includes\n",
    "\n",
    "* **Numpy** Base N-dimensional array package\n",
    "\n",
    "* **Scipy library** Fundamental library for scientific computing\n",
    "\n",
    "* **Matplotlib** Comprehensive 2D plotting\n",
    "\n",
    "* **Pandas** Data structures and analysis\n",
    "\n",
    "* **scikit-image** Collection of algorithms for image processing.\n",
    "\n",
    "* **sckit-learn** collection of tools for machine learning.\n",
    "\n",
    "* ...\n",
    "\n",
    "In this tutorial we investigate the _pandas_ and _matplotlib_ packages.\n",
    "\n",
    "\n",
    "### Pandas \n",
    "\n",
    "Text from <http://pandas.pydata.org>\n",
    "\n",
    "> Python has long been great for data munging and preparation, but less so for data analysis and modeling. Pandas helps fill this gap, enabling you to carry out your entire data analysis workflow in Python without having to switch to a more domain specific language like R.\n",
    "\n",
    "> Combined with the excellent IPython toolkit and other libraries, the environment for doing data analysis in Python excels in performance, productivity, and the ability to collaborate.\n",
    "\n",
    "> ### Library Highlights\n",
    "\n",
    "> * A fast and efficient DataFrame object for data manipulation with integrated indexing;\n",
    "* Tools for reading and writing data between in-memory data structures and different formats: CSV and text files, Microsoft Excel, SQL databases, and the fast HDF5 format;\n",
    "* Intelligent data alignment and integrated handling of missing data: gain automatic label-based alignment in computations and easily manipulate messy data into an orderly form;\n",
    "* Flexible reshaping and pivoting of data sets;\n",
    "* Intelligent label-based slicing, fancy indexing, and subsetting of large data sets;\n",
    "* Columns can be inserted and deleted from data structures for size mutability;\n",
    "* Aggregating or transforming data with a powerful group by engine allowing split-apply-combine operations on data sets;\n",
    "* High performance merging and joining of data sets;\n",
    "* Hierarchical axis indexing provides an intuitive way of working with high-dimensional data in a lower-dimensional data structure;\n",
    "* Time series-functionality: date range generation and frequency conversion, moving window statistics, moving window linear regressions, date shifting and lagging. Even create domain-specific time offsets and join time series without losing data;\n",
    "* Highly optimized for performance, with critical code paths written in Cython or C.\n",
    "* Python with pandas is in use in a wide variety of academic and commercial domains, including Finance, Neuroscience, Economics, Statistics, Advertising, Web Analytics, and more.\n",
    "\n",
    "***"
   ]
  },
  {
   "cell_type": "markdown",
   "metadata": {},
   "source": [
    "### Okay this all well and good, but what about in practice?"
   ]
  },
  {
   "cell_type": "markdown",
   "metadata": {},
   "source": [
    "\n",
    "## Wine Reviews: 130k wine reviews with variety, location, winery, price and description \n",
    "![](noun_Wine_15141.png) \n",
    "\n",
    "Scraped from Wine enthusiast Magazine week of June 15th 2017\n",
    "\n",
    "Collated by Zack Thoutt:   <https://www.kaggle.com/zynicide/wine-reviews>\n",
    "\n",
    "Analysis below based on <https://github.com/kjingers/reproducible-python>\n",
    "\n",
    "Adapted by Ian Thomas, RMIT University."
   ]
  },
  {
   "cell_type": "markdown",
   "metadata": {},
   "source": [
    "### We load the Pandas library so we can use it for data exploration\n"
   ]
  },
  {
   "cell_type": "code",
   "execution_count": null,
   "metadata": {},
   "outputs": [],
   "source": [
    "import pandas as pd"
   ]
  },
  {
   "cell_type": "markdown",
   "metadata": {},
   "source": [
    "### First load the CSV (comma seperated values) file with the data into a Pandas DataFrame\n"
   ]
  },
  {
   "cell_type": "code",
   "execution_count": null,
   "metadata": {},
   "outputs": [],
   "source": [
    "wine = pd.read_csv(\"winemag-data-130k-v2.csv\")\n",
    "wine.head()"
   ]
  },
  {
   "cell_type": "markdown",
   "metadata": {},
   "source": [
    "### Get basic description of the data"
   ]
  },
  {
   "cell_type": "code",
   "execution_count": null,
   "metadata": {},
   "outputs": [],
   "source": [
    "wine.describe(include ='all').T"
   ]
  },
  {
   "cell_type": "code",
   "execution_count": null,
   "metadata": {},
   "outputs": [],
   "source": [
    "wine.points.describe()"
   ]
  },
  {
   "cell_type": "markdown",
   "metadata": {},
   "source": [
    "### Lets look closer at the testers"
   ]
  },
  {
   "cell_type": "code",
   "execution_count": null,
   "metadata": {},
   "outputs": [],
   "source": [
    "wine.taster_name.unique()"
   ]
  },
  {
   "cell_type": "code",
   "execution_count": null,
   "metadata": {},
   "outputs": [],
   "source": [
    "wine.taster_name.describe()"
   ]
  },
  {
   "cell_type": "code",
   "execution_count": null,
   "metadata": {},
   "outputs": [],
   "source": [
    "wine.taster_name.value_counts()"
   ]
  },
  {
   "cell_type": "markdown",
   "metadata": {},
   "source": [
    "### Grouping per country and points to analyse the mean price of the wines\n"
   ]
  },
  {
   "cell_type": "code",
   "execution_count": null,
   "metadata": {},
   "outputs": [],
   "source": [
    "count = wine.groupby(['country','points'])['price'].agg(['count','min','max','mean']).sort_values(by = 'mean',ascending = False)[:20]\n",
    "count.reset_index(inplace=True)\n",
    "count"
   ]
  },
  {
   "cell_type": "markdown",
   "metadata": {},
   "source": [
    "### Lets break that down"
   ]
  },
  {
   "cell_type": "code",
   "execution_count": null,
   "metadata": {
    "tags": []
   },
   "outputs": [],
   "source": [
    "temp = wine.groupby(['country','points'])\n",
    "print(temp)\n",
    "temp = temp['price'] \n",
    "print(temp) # Question: why do we not see anything up to here?\n",
    "temp = temp.agg(['count','min','max','mean'])\n",
    "print(temp)\n",
    "temp = temp.sort_values(by='mean',ascending=False)\n",
    "print(temp)\n",
    "temp = temp[:20]\n",
    "print(temp)\n",
    "temp.reset_index(inplace=True)\n",
    "print(temp)"
   ]
  },
  {
   "cell_type": "markdown",
   "metadata": {},
   "source": [
    "These are just a few functions from the Pandas library.  Much more information here: <http://pandas.pydata.org>\n",
    "There is a handy cheatsheet for pandas here: <https://pandas.pydata.org/Pandas_Cheat_Sheet.pdf>"
   ]
  },
  {
   "cell_type": "markdown",
   "metadata": {},
   "source": [
    "### Matplotlib\n",
    "\n",
    "Text from <https://matplotlib.org/>\n",
    "\n",
    "> Matplotlib is a Python 2D plotting library which produces publication quality figures in a variety of hardcopy formats and interactive environments across platforms. Matplotlib can be used in Python scripts, the Python and IPython shells, the Jupyter notebook, web application servers, and four graphical user interface toolkits.\n"
   ]
  },
  {
   "cell_type": "code",
   "execution_count": null,
   "metadata": {
    "tags": []
   },
   "outputs": [],
   "source": [
    "# We need this line for showing plots in jupyter notebooks\n",
    "%matplotlib inline \n",
    "\n",
    "# include the library so we can use it as \"plt\"\n",
    "import matplotlib.pyplot as plt\n"
   ]
  },
  {
   "cell_type": "code",
   "execution_count": null,
   "metadata": {},
   "outputs": [],
   "source": [
    "\n",
    "wine['points'].value_counts().sort_index().plot.bar(color = 'blue',\n",
    "                                                   title = 'Rankings given by wine magazine');"
   ]
  },
  {
   "cell_type": "markdown",
   "metadata": {},
   "source": [
    "### Lets break that down"
   ]
  },
  {
   "cell_type": "code",
   "execution_count": null,
   "metadata": {
    "tags": []
   },
   "outputs": [],
   "source": [
    "temp = wine['points']\n",
    "print(temp)\n",
    "temp = temp.value_counts()\n",
    "print(temp)\n",
    "temp = temp.sort_index()\n",
    "print(temp)\n",
    "\n",
    "temp.plot.bar(color=\"blue\", title=\"Rankings given win magazine\")\n"
   ]
  },
  {
   "cell_type": "markdown",
   "metadata": {},
   "source": [
    "### How many countries are represented?"
   ]
  },
  {
   "cell_type": "code",
   "execution_count": null,
   "metadata": {},
   "outputs": [],
   "source": [
    "wine['country'].nunique()"
   ]
  },
  {
   "cell_type": "markdown",
   "metadata": {},
   "source": [
    "### Countries with the most wine representations"
   ]
  },
  {
   "cell_type": "code",
   "execution_count": null,
   "metadata": {},
   "outputs": [],
   "source": [
    "fig, ax = plt.subplots(figsize = (10, 8))\n",
    "\n",
    "# Maybe you want to try breaking down the following line like we have been doing?\n",
    "country = wine['country'].value_counts().to_frame()[0:20] \n",
    "\n",
    "country.plot.bar(ax = ax, color=\"blue\", legend = None, title = 'Countries with most wine representations');"
   ]
  },
  {
   "cell_type": "markdown",
   "metadata": {},
   "source": [
    "### Which countries have the highest point mean?"
   ]
  },
  {
   "cell_type": "code",
   "execution_count": null,
   "metadata": {},
   "outputs": [],
   "source": [
    "\n",
    "# the following lines may seem familiar...\n",
    "country_grouped = wine.groupby('country')\n",
    "grouped_list = country_grouped['points'].mean().reset_index()\n",
    "\n",
    "\n",
    "grouped_list.sort_values(by ='points', ascending = False).iloc[:20].reset_index(drop = True)\n"
   ]
  },
  {
   "cell_type": "markdown",
   "metadata": {},
   "source": [
    "### Question: what does the `drop=True` mean in reset_index?. \n",
    "\n",
    "Don't be afraid to web search for the answer (noone ever remembers all the options!)\n",
    "\n",
    "<https://pandas.pydata.org/pandas-docs/stable/reference/api/pandas.DataFrame.reset_index.html>\n"
   ]
  },
  {
   "cell_type": "markdown",
   "metadata": {},
   "source": [
    "### Lets look at Australia!...  \n",
    "\n",
    "![](noun_Kangaroo_3308208.png) \n",
    "\n"
   ]
  },
  {
   "cell_type": "code",
   "execution_count": null,
   "metadata": {},
   "outputs": [],
   "source": [
    "oz = wine[wine['country'] == 'Australia'].copy()\n",
    "oz.head()"
   ]
  },
  {
   "cell_type": "code",
   "execution_count": null,
   "metadata": {},
   "outputs": [],
   "source": [
    "fig, ax = plt.subplots(figsize = (10, 8))\n",
    "\n",
    "oz_points = oz['points'].value_counts().to_frame()\n",
    "oz_points.sort_values(by = 'points', ascending = False, inplace = True)\n",
    "\n",
    "oz_points.plot.bar(ax = ax, legend = None)\n",
    "\n",
    "ax.set_xlabel('Points')\n",
    "ax.set_ylabel('No of wines');"
   ]
  },
  {
   "cell_type": "markdown",
   "metadata": {},
   "source": [
    "\n",
    "\n",
    "## Where to from here?\n",
    "\n",
    "\n",
    "### Further Resources\n",
    "\n",
    "* The Jupyter notebook <http://jupyter.org>\n",
    "* Nectar Research Cloud <http://nectar.org.au>\n",
    "* Binder <http://mybinder.org>\n",
    "* SciPy libraries <http://www.scipy.org>\n",
    "* Learning Python <https://swcarpentry.github.io/python-novice-inflammation/>\n",
    "* Pandas <http://pandas.pydata.org>\n",
    "* Matplotlib <https://matplotlib.org/>\n",
    "* Jupyter notebooks for GLAM (Galleries, libraries, archives, museums) <https://glam-workbench.github.io/>\n",
    "* Jupyter notebooks for the digital humanities <https://github.com/quinnanya/dh-jupyter>\n",
    "\n",
    "\n"
   ]
  },
  {
   "cell_type": "code",
   "execution_count": null,
   "metadata": {},
   "outputs": [],
   "source": []
  }
 ],
 "metadata": {
  "kernelspec": {
   "display_name": "Python 3",
   "language": "python",
   "name": "python3"
  },
  "language_info": {
   "codemirror_mode": {
    "name": "ipython",
    "version": 3
   },
   "file_extension": ".py",
   "mimetype": "text/x-python",
   "name": "python",
   "nbconvert_exporter": "python",
   "pygments_lexer": "ipython3",
   "version": "3.7.4-final"
  }
 },
 "nbformat": 4,
 "nbformat_minor": 2
}